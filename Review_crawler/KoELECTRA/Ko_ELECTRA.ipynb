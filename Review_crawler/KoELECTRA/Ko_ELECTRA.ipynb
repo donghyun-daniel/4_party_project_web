{
 "cells": [
  {
   "cell_type": "code",
   "execution_count": 134,
   "metadata": {
    "ExecuteTime": {
     "end_time": "2021-02-24T17:30:04.531725Z",
     "start_time": "2021-02-24T17:30:04.519725Z"
    }
   },
   "outputs": [
    {
     "data": {
      "text/html": [
       "<style>.container { width : 100% ! important; } </style>"
      ],
      "text/plain": [
       "<IPython.core.display.HTML object>"
      ]
     },
     "metadata": {},
     "output_type": "display_data"
    }
   ],
   "source": [
    "from IPython.core.display import display, HTML\n",
    "display(HTML(\"<style>.container { width : 100% ! important; } </style>\"))"
   ]
  },
  {
   "cell_type": "code",
   "execution_count": 135,
   "metadata": {
    "ExecuteTime": {
     "end_time": "2021-02-24T17:30:04.887651Z",
     "start_time": "2021-02-24T17:30:04.870652Z"
    }
   },
   "outputs": [],
   "source": [
    "import pandas as pd\n",
    "import re"
   ]
  },
  {
   "cell_type": "code",
   "execution_count": 136,
   "metadata": {
    "ExecuteTime": {
     "end_time": "2021-02-24T17:30:05.538748Z",
     "start_time": "2021-02-24T17:30:05.174218Z"
    }
   },
   "outputs": [],
   "source": [
    "review_df = pd.read_csv(\"../csv_output/Booking.csv\")\n",
    "review_df[\"label\"] = 1\n",
    "review_df = review_df[[\"Positive\", \"label\"]]\n",
    "review_df.columns = [\"Text\", \"Label\"]\n",
    "pos = review_df\n",
    "pos.head()\n",
    "\n",
    "review_df = pd.read_csv(\"../csv_output/Booking.csv\")\n",
    "review_df[\"label\"] = 0\n",
    "review_df = review_df[[\"Negative\", \"label\"]]\n",
    "review_df.columns = [\"Text\", \"Label\"]\n",
    "neg = review_df"
   ]
  },
  {
   "cell_type": "code",
   "execution_count": 137,
   "metadata": {
    "ExecuteTime": {
     "end_time": "2021-02-24T17:30:10.716124Z",
     "start_time": "2021-02-24T17:30:06.160624Z"
    }
   },
   "outputs": [
    {
     "name": "stdout",
     "output_type": "stream",
     "text": [
      "Requirement already satisfied: kss in c:\\users\\dongh\\anaconda3\\lib\\site-packages (2.5.0)\n",
      "Requirement already satisfied: tqdm in c:\\users\\dongh\\anaconda3\\lib\\site-packages (4.50.2)\n"
     ]
    },
    {
     "data": {
      "application/vnd.jupyter.widget-view+json": {
       "model_id": "74cdea5ff65e4fbdb941a7fa4871fd25",
       "version_major": 2,
       "version_minor": 0
      },
      "text/plain": [
       "HBox(children=(HTML(value=''), FloatProgress(value=0.0, max=33247.0), HTML(value='')))"
      ]
     },
     "metadata": {},
     "output_type": "display_data"
    },
    {
     "name": "stdout",
     "output_type": "stream",
     "text": [
      "\n"
     ]
    },
    {
     "data": {
      "application/vnd.jupyter.widget-view+json": {
       "model_id": "9c26cdbc10dd4ecd8e58555a7fb7766a",
       "version_major": 2,
       "version_minor": 0
      },
      "text/plain": [
       "HBox(children=(HTML(value=''), FloatProgress(value=0.0, max=33247.0), HTML(value='')))"
      ]
     },
     "metadata": {},
     "output_type": "display_data"
    },
    {
     "name": "stdout",
     "output_type": "stream",
     "text": [
      "\n"
     ]
    }
   ],
   "source": [
    "!pip install kss\n",
    "!pip install tqdm\n",
    "\n",
    "import kss\n",
    "from tqdm.notebook import tqdm\n",
    "\n",
    "def split_sentence(texts_df):\n",
    "    arr =[]\n",
    "    for sentence in tqdm(texts_df):\n",
    "        for s in kss.split_sentences(sentence):\n",
    "            arr.append(s)\n",
    "    return arr\n",
    "\n",
    "pos_df = pd.DataFrame({\"Text\": split_sentence(pos)})\n",
    "neg_df = pd.DataFrame({\"Text\": split_sentence(neg)})\n",
    "pos_df[\"Label\"] = 1\n",
    "neg_df[\"Label\"] = 0\n"
   ]
  },
  {
   "cell_type": "code",
   "execution_count": 129,
   "metadata": {
    "ExecuteTime": {
     "end_time": "2021-02-24T17:27:43.840776Z",
     "start_time": "2021-02-24T17:27:43.625776Z"
    }
   },
   "outputs": [
    {
     "data": {
      "text/html": [
       "<div>\n",
       "<style scoped>\n",
       "    .dataframe tbody tr th:only-of-type {\n",
       "        vertical-align: middle;\n",
       "    }\n",
       "\n",
       "    .dataframe tbody tr th {\n",
       "        vertical-align: top;\n",
       "    }\n",
       "\n",
       "    .dataframe thead th {\n",
       "        text-align: right;\n",
       "    }\n",
       "</style>\n",
       "<table border=\"1\" class=\"dataframe\">\n",
       "  <thead>\n",
       "    <tr style=\"text-align: right;\">\n",
       "      <th></th>\n",
       "      <th>Text</th>\n",
       "      <th>Label</th>\n",
       "    </tr>\n",
       "  </thead>\n",
       "  <tbody>\n",
       "    <tr>\n",
       "      <th>66305</th>\n",
       "      <td>도심과는 조금 멉니다</td>\n",
       "      <td>0</td>\n",
       "    </tr>\n",
       "    <tr>\n",
       "      <th>66306</th>\n",
       "      <td>약간 외곽에 있었고 가까이에 식당을 찾기가 어려웠어요</td>\n",
       "      <td>0</td>\n",
       "    </tr>\n",
       "    <tr>\n",
       "      <th>66307</th>\n",
       "      <td>방이 20m2이라고 했는데 실제론 절반크기(?) 정도로 많이 작았음...</td>\n",
       "      <td>0</td>\n",
       "    </tr>\n",
       "    <tr>\n",
       "      <th>66308</th>\n",
       "      <td>없음</td>\n",
       "      <td>0</td>\n",
       "    </tr>\n",
       "    <tr>\n",
       "      <th>66309</th>\n",
       "      <td>없습니다.</td>\n",
       "      <td>0</td>\n",
       "    </tr>\n",
       "  </tbody>\n",
       "</table>\n",
       "</div>"
      ],
      "text/plain": [
       "                                           Text  Label\n",
       "66305                               도심과는 조금 멉니다      0\n",
       "66306             약간 외곽에 있었고 가까이에 식당을 찾기가 어려웠어요      0\n",
       "66307  방이 20m2이라고 했는데 실제론 절반크기(?) 정도로 많이 작았음...      0\n",
       "66308                                        없음      0\n",
       "66309                                     없습니다.      0"
      ]
     },
     "execution_count": 129,
     "metadata": {},
     "output_type": "execute_result"
    }
   ],
   "source": [
    "review_df = pd.concat([pos.dropna(), neg.dropna()])\n",
    "review_df.index = [i for i in range(review_df[\"Text\"].size)]\n",
    "\n",
    "review_df.tail()"
   ]
  },
  {
   "cell_type": "code",
   "execution_count": 118,
   "metadata": {
    "ExecuteTime": {
     "end_time": "2021-02-24T17:25:47.648922Z",
     "start_time": "2021-02-24T17:25:47.242920Z"
    }
   },
   "outputs": [
    {
     "data": {
      "text/html": [
       "<div>\n",
       "<style scoped>\n",
       "    .dataframe tbody tr th:only-of-type {\n",
       "        vertical-align: middle;\n",
       "    }\n",
       "\n",
       "    .dataframe tbody tr th {\n",
       "        vertical-align: top;\n",
       "    }\n",
       "\n",
       "    .dataframe thead th {\n",
       "        text-align: right;\n",
       "    }\n",
       "</style>\n",
       "<table border=\"1\" class=\"dataframe\">\n",
       "  <thead>\n",
       "    <tr style=\"text-align: right;\">\n",
       "      <th></th>\n",
       "      <th>Text</th>\n",
       "      <th>Label</th>\n",
       "    </tr>\n",
       "  </thead>\n",
       "  <tbody>\n",
       "    <tr>\n",
       "      <th>0</th>\n",
       "      <td>직원 분들이 정말로 친절하십니다. 외국인 친구를 데리고 갔는데 특히 아침 조식 때 ...</td>\n",
       "      <td>1</td>\n",
       "    </tr>\n",
       "    <tr>\n",
       "      <th>1</th>\n",
       "      <td>침대 매트리스는 좋았어요 아침식사도 좋구요</td>\n",
       "      <td>1</td>\n",
       "    </tr>\n",
       "    <tr>\n",
       "      <th>2</th>\n",
       "      <td>편의시설 가까움</td>\n",
       "      <td>1</td>\n",
       "    </tr>\n",
       "    <tr>\n",
       "      <th>3</th>\n",
       "      <td>위치가 좋다</td>\n",
       "      <td>1</td>\n",
       "    </tr>\n",
       "    <tr>\n",
       "      <th>4</th>\n",
       "      <td>화장실이 넓고 위치가 좋아요</td>\n",
       "      <td>1</td>\n",
       "    </tr>\n",
       "    <tr>\n",
       "      <th>...</th>\n",
       "      <td>...</td>\n",
       "      <td>...</td>\n",
       "    </tr>\n",
       "    <tr>\n",
       "      <th>66305</th>\n",
       "      <td>도심과는 조금 멉니다</td>\n",
       "      <td>0</td>\n",
       "    </tr>\n",
       "    <tr>\n",
       "      <th>66306</th>\n",
       "      <td>약간 외곽에 있었고 가까이에 식당을 찾기가 어려웠어요</td>\n",
       "      <td>0</td>\n",
       "    </tr>\n",
       "    <tr>\n",
       "      <th>66307</th>\n",
       "      <td>방이 20m2이라고 했는데 실제론 절반크기(?) 정도로 많이 작았음...</td>\n",
       "      <td>0</td>\n",
       "    </tr>\n",
       "    <tr>\n",
       "      <th>66308</th>\n",
       "      <td>없음</td>\n",
       "      <td>0</td>\n",
       "    </tr>\n",
       "    <tr>\n",
       "      <th>66309</th>\n",
       "      <td>없습니다.</td>\n",
       "      <td>0</td>\n",
       "    </tr>\n",
       "  </tbody>\n",
       "</table>\n",
       "<p>66310 rows × 2 columns</p>\n",
       "</div>"
      ],
      "text/plain": [
       "                                                    Text  Label\n",
       "0      직원 분들이 정말로 친절하십니다. 외국인 친구를 데리고 갔는데 특히 아침 조식 때 ...      1\n",
       "1                                침대 매트리스는 좋았어요 아침식사도 좋구요      1\n",
       "2                                               편의시설 가까움      1\n",
       "3                                                 위치가 좋다      1\n",
       "4                                        화장실이 넓고 위치가 좋아요      1\n",
       "...                                                  ...    ...\n",
       "66305                                        도심과는 조금 멉니다      0\n",
       "66306                      약간 외곽에 있었고 가까이에 식당을 찾기가 어려웠어요      0\n",
       "66307           방이 20m2이라고 했는데 실제론 절반크기(?) 정도로 많이 작았음...      0\n",
       "66308                                                 없음      0\n",
       "66309                                              없습니다.      0\n",
       "\n",
       "[66310 rows x 2 columns]"
      ]
     },
     "execution_count": 118,
     "metadata": {},
     "output_type": "execute_result"
    }
   ],
   "source": [
    "del_filter = re.compile(r'[^ .,?!/@$%~％·∼()\\x00-\\x7F가-힣]+')\n",
    "def filter_text(x):\n",
    "    global del_filter\n",
    "    return del_filter.findall(x)\n",
    "review_df.Text.apply(filter_text)\n",
    "review_df"
   ]
  },
  {
   "cell_type": "code",
   "execution_count": 119,
   "metadata": {
    "ExecuteTime": {
     "end_time": "2021-02-24T17:25:52.267732Z",
     "start_time": "2021-02-24T17:25:47.737153Z"
    }
   },
   "outputs": [
    {
     "name": "stdout",
     "output_type": "stream",
     "text": [
      "Requirement already satisfied: kss in c:\\users\\dongh\\anaconda3\\lib\\site-packages (2.5.0)\n",
      "Requirement already satisfied: tqdm in c:\\users\\dongh\\anaconda3\\lib\\site-packages (4.50.2)\n"
     ]
    }
   ],
   "source": []
  },
  {
   "cell_type": "code",
   "execution_count": 100,
   "metadata": {
    "ExecuteTime": {
     "end_time": "2021-02-24T17:23:54.814604Z",
     "start_time": "2021-02-24T17:23:54.802102Z"
    }
   },
   "outputs": [
    {
     "ename": "NameError",
     "evalue": "name 'p' is not defined",
     "output_type": "error",
     "traceback": [
      "\u001b[1;31m---------------------------------------------------------------------------\u001b[0m",
      "\u001b[1;31mNameError\u001b[0m                                 Traceback (most recent call last)",
      "\u001b[1;32m<ipython-input-100-addcee203d5f>\u001b[0m in \u001b[0;36m<module>\u001b[1;34m\u001b[0m\n\u001b[1;32m----> 1\u001b[1;33m \u001b[0mreview_splited\u001b[0m \u001b[1;33m=\u001b[0m \u001b[0mpd\u001b[0m\u001b[1;33m.\u001b[0m\u001b[0mconcat\u001b[0m\u001b[1;33m(\u001b[0m\u001b[1;33m[\u001b[0m\u001b[0mp\u001b[0m\u001b[1;33m,\u001b[0m \u001b[0mn\u001b[0m\u001b[1;33m]\u001b[0m\u001b[1;33m)\u001b[0m\u001b[1;33m\u001b[0m\u001b[1;33m\u001b[0m\u001b[0m\n\u001b[0m\u001b[0;32m      2\u001b[0m \u001b[0mreview_splited\u001b[0m\u001b[1;33m[\u001b[0m\u001b[1;34m\"len_text\"\u001b[0m\u001b[1;33m]\u001b[0m\u001b[1;33m=\u001b[0m\u001b[1;33m[\u001b[0m\u001b[0mlen\u001b[0m\u001b[1;33m(\u001b[0m\u001b[0mt\u001b[0m\u001b[1;33m.\u001b[0m\u001b[0msplit\u001b[0m\u001b[1;33m(\u001b[0m\u001b[1;33m)\u001b[0m\u001b[1;33m)\u001b[0m \u001b[1;32mfor\u001b[0m \u001b[0mt\u001b[0m \u001b[1;32min\u001b[0m \u001b[0mreview_splited\u001b[0m\u001b[1;33m[\u001b[0m\u001b[1;34m\"Text\"\u001b[0m\u001b[1;33m]\u001b[0m\u001b[1;33m]\u001b[0m\u001b[1;33m\u001b[0m\u001b[1;33m\u001b[0m\u001b[0m\n\u001b[0;32m      3\u001b[0m \u001b[0mreview_splited_del_one_word\u001b[0m \u001b[1;33m=\u001b[0m \u001b[0mreview_splited\u001b[0m\u001b[1;33m[\u001b[0m\u001b[0mreview_splited\u001b[0m\u001b[1;33m[\u001b[0m\u001b[1;34m\"len_text\"\u001b[0m\u001b[1;33m]\u001b[0m \u001b[1;33m>\u001b[0m \u001b[1;36m1\u001b[0m\u001b[1;33m]\u001b[0m\u001b[1;33m\u001b[0m\u001b[1;33m\u001b[0m\u001b[0m\n\u001b[0;32m      4\u001b[0m \u001b[1;33m\u001b[0m\u001b[0m\n\u001b[0;32m      5\u001b[0m \u001b[0mreview_splited\u001b[0m\u001b[1;33m\u001b[0m\u001b[1;33m\u001b[0m\u001b[0m\n",
      "\u001b[1;31mNameError\u001b[0m: name 'p' is not defined"
     ]
    }
   ],
   "source": [
    "review_splited = pd.concat([p, n])\n",
    "review_splited[\"len_text\"]=[len(t.split()) for t in review_splited[\"Text\"]]\n",
    "review_splited_del_one_word = review_splited[review_splited[\"len_text\"] > 1]\n",
    "\n",
    "review_splited"
   ]
  },
  {
   "cell_type": "code",
   "execution_count": null,
   "metadata": {},
   "outputs": [],
   "source": []
  }
 ],
 "metadata": {
  "kernelspec": {
   "display_name": "Python 3",
   "language": "python",
   "name": "python3"
  },
  "language_info": {
   "codemirror_mode": {
    "name": "ipython",
    "version": 3
   },
   "file_extension": ".py",
   "mimetype": "text/x-python",
   "name": "python",
   "nbconvert_exporter": "python",
   "pygments_lexer": "ipython3",
   "version": "3.8.5"
  }
 },
 "nbformat": 4,
 "nbformat_minor": 4
}
