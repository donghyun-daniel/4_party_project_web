{
 "cells": [
  {
   "cell_type": "code",
   "execution_count": 33,
   "metadata": {
    "ExecuteTime": {
     "end_time": "2021-02-24T17:54:09.572227Z",
     "start_time": "2021-02-24T17:54:09.566230Z"
    }
   },
   "outputs": [
    {
     "data": {
      "text/html": [
       "<style>.container (width : 100% ! important: )</style>"
      ],
      "text/plain": [
       "<IPython.core.display.HTML object>"
      ]
     },
     "metadata": {},
     "output_type": "display_data"
    }
   ],
   "source": [
    "from IPython.core.display import display, HTML\n",
    "display(HTML(\"<style>.container (width : 100% ! important: )</style>\"))\n",
    "\n",
    "\n",
    "import pandas as pd\n",
    "import os\n",
    "import re"
   ]
  },
  {
   "cell_type": "code",
   "execution_count": 34,
   "metadata": {
    "ExecuteTime": {
     "end_time": "2021-02-24T17:54:09.990727Z",
     "start_time": "2021-02-24T17:54:09.573730Z"
    }
   },
   "outputs": [
    {
     "data": {
      "text/html": [
       "<div>\n",
       "<style scoped>\n",
       "    .dataframe tbody tr th:only-of-type {\n",
       "        vertical-align: middle;\n",
       "    }\n",
       "\n",
       "    .dataframe tbody tr th {\n",
       "        vertical-align: top;\n",
       "    }\n",
       "\n",
       "    .dataframe thead th {\n",
       "        text-align: right;\n",
       "    }\n",
       "</style>\n",
       "<table border=\"1\" class=\"dataframe\">\n",
       "  <thead>\n",
       "    <tr style=\"text-align: right;\">\n",
       "      <th></th>\n",
       "      <th>Text</th>\n",
       "      <th>Label</th>\n",
       "    </tr>\n",
       "  </thead>\n",
       "  <tbody>\n",
       "    <tr>\n",
       "      <th>33242</th>\n",
       "      <td>도심과는 조금 멉니다</td>\n",
       "      <td>0</td>\n",
       "    </tr>\n",
       "    <tr>\n",
       "      <th>33243</th>\n",
       "      <td>약간 외곽에 있었고 가까이에 식당을 찾기가 어려웠어요</td>\n",
       "      <td>0</td>\n",
       "    </tr>\n",
       "    <tr>\n",
       "      <th>33244</th>\n",
       "      <td>방이 20m2이라고 했는데 실제론 절반크기(?) 정도로 많이 작았음...</td>\n",
       "      <td>0</td>\n",
       "    </tr>\n",
       "    <tr>\n",
       "      <th>33245</th>\n",
       "      <td>없음</td>\n",
       "      <td>0</td>\n",
       "    </tr>\n",
       "    <tr>\n",
       "      <th>33246</th>\n",
       "      <td>없습니다.</td>\n",
       "      <td>0</td>\n",
       "    </tr>\n",
       "  </tbody>\n",
       "</table>\n",
       "</div>"
      ],
      "text/plain": [
       "                                           Text  Label\n",
       "33242                               도심과는 조금 멉니다      0\n",
       "33243             약간 외곽에 있었고 가까이에 식당을 찾기가 어려웠어요      0\n",
       "33244  방이 20m2이라고 했는데 실제론 절반크기(?) 정도로 많이 작았음...      0\n",
       "33245                                        없음      0\n",
       "33246                                     없습니다.      0"
      ]
     },
     "execution_count": 34,
     "metadata": {},
     "output_type": "execute_result"
    }
   ],
   "source": [
    "# Labelling and Extract col\n",
    "review_df = pd.read_csv(\"Booking.csv\")\n",
    "review_df[\"label\"] = 1\n",
    "review_df = review_df[[\"Positive\", \"label\"]]\n",
    "review_df.columns = [\"Text\", \"Label\"]\n",
    "pos = review_df\n",
    "\n",
    "review_df = pd.read_csv(\"Booking.csv\")\n",
    "review_df[\"label\"] = 0\n",
    "review_df = review_df[[\"Negative\", \"label\"]]\n",
    "review_df.columns = [\"Text\", \"Label\"]\n",
    "neg = review_df\n",
    "\n",
    "review_df = pd.concat([pos.dropna(), neg.dropna()])\n",
    "review_df.tail()"
   ]
  },
  {
   "cell_type": "code",
   "execution_count": 35,
   "metadata": {
    "ExecuteTime": {
     "end_time": "2021-02-24T17:54:10.331729Z",
     "start_time": "2021-02-24T17:54:09.993227Z"
    }
   },
   "outputs": [
    {
     "data": {
      "text/html": [
       "<div>\n",
       "<style scoped>\n",
       "    .dataframe tbody tr th:only-of-type {\n",
       "        vertical-align: middle;\n",
       "    }\n",
       "\n",
       "    .dataframe tbody tr th {\n",
       "        vertical-align: top;\n",
       "    }\n",
       "\n",
       "    .dataframe thead th {\n",
       "        text-align: right;\n",
       "    }\n",
       "</style>\n",
       "<table border=\"1\" class=\"dataframe\">\n",
       "  <thead>\n",
       "    <tr style=\"text-align: right;\">\n",
       "      <th></th>\n",
       "      <th>Text</th>\n",
       "      <th>Label</th>\n",
       "    </tr>\n",
       "  </thead>\n",
       "  <tbody>\n",
       "    <tr>\n",
       "      <th>0</th>\n",
       "      <td>직원 분들이 정말로 친절하십니다. 외국인 친구를 데리고 갔는데 특히 아침 조식 때 ...</td>\n",
       "      <td>1</td>\n",
       "    </tr>\n",
       "    <tr>\n",
       "      <th>1</th>\n",
       "      <td>침대 매트리스는 좋았어요 아침식사도 좋구요</td>\n",
       "      <td>1</td>\n",
       "    </tr>\n",
       "    <tr>\n",
       "      <th>2</th>\n",
       "      <td>편의시설 가까움</td>\n",
       "      <td>1</td>\n",
       "    </tr>\n",
       "    <tr>\n",
       "      <th>3</th>\n",
       "      <td>위치가 좋다</td>\n",
       "      <td>1</td>\n",
       "    </tr>\n",
       "    <tr>\n",
       "      <th>4</th>\n",
       "      <td>화장실이 넓고 위치가 좋아요</td>\n",
       "      <td>1</td>\n",
       "    </tr>\n",
       "    <tr>\n",
       "      <th>...</th>\n",
       "      <td>...</td>\n",
       "      <td>...</td>\n",
       "    </tr>\n",
       "    <tr>\n",
       "      <th>33242</th>\n",
       "      <td>도심과는 조금 멉니다</td>\n",
       "      <td>0</td>\n",
       "    </tr>\n",
       "    <tr>\n",
       "      <th>33243</th>\n",
       "      <td>약간 외곽에 있었고 가까이에 식당을 찾기가 어려웠어요</td>\n",
       "      <td>0</td>\n",
       "    </tr>\n",
       "    <tr>\n",
       "      <th>33244</th>\n",
       "      <td>방이 20m2이라고 했는데 실제론 절반크기(?) 정도로 많이 작았음...</td>\n",
       "      <td>0</td>\n",
       "    </tr>\n",
       "    <tr>\n",
       "      <th>33245</th>\n",
       "      <td>없음</td>\n",
       "      <td>0</td>\n",
       "    </tr>\n",
       "    <tr>\n",
       "      <th>33246</th>\n",
       "      <td>없습니다.</td>\n",
       "      <td>0</td>\n",
       "    </tr>\n",
       "  </tbody>\n",
       "</table>\n",
       "<p>66310 rows × 2 columns</p>\n",
       "</div>"
      ],
      "text/plain": [
       "                                                    Text  Label\n",
       "0      직원 분들이 정말로 친절하십니다. 외국인 친구를 데리고 갔는데 특히 아침 조식 때 ...      1\n",
       "1                                침대 매트리스는 좋았어요 아침식사도 좋구요      1\n",
       "2                                               편의시설 가까움      1\n",
       "3                                                 위치가 좋다      1\n",
       "4                                        화장실이 넓고 위치가 좋아요      1\n",
       "...                                                  ...    ...\n",
       "33242                                        도심과는 조금 멉니다      0\n",
       "33243                      약간 외곽에 있었고 가까이에 식당을 찾기가 어려웠어요      0\n",
       "33244           방이 20m2이라고 했는데 실제론 절반크기(?) 정도로 많이 작았음...      0\n",
       "33245                                                 없음      0\n",
       "33246                                              없습니다.      0\n",
       "\n",
       "[66310 rows x 2 columns]"
      ]
     },
     "execution_count": 35,
     "metadata": {},
     "output_type": "execute_result"
    }
   ],
   "source": [
    "# cleansing with reg\n",
    "\n",
    "del_filter = re.compile(r'[^ .,?!/@$%~％·∼()\\x00-\\x7F가-힣]+')\n",
    "\n",
    "def filter_text(x):\n",
    "    global del_filter\n",
    "    return del_filter.findall(x)\n",
    "review_df.Text.apply(filter_text)\n",
    "review_df"
   ]
  },
  {
   "cell_type": "code",
   "execution_count": 36,
   "metadata": {
    "ExecuteTime": {
     "end_time": "2021-02-24T17:55:00.024728Z",
     "start_time": "2021-02-24T17:54:10.333730Z"
    }
   },
   "outputs": [
    {
     "name": "stdout",
     "output_type": "stream",
     "text": [
      "Requirement already satisfied: soynlp in c:\\users\\dongh\\anaconda3\\lib\\site-packages (0.0.493)\n",
      "Requirement already satisfied: scikit-learn>=0.20.0 in c:\\users\\dongh\\anaconda3\\lib\\site-packages (from soynlp) (0.23.2)\n",
      "Requirement already satisfied: psutil>=5.0.1 in c:\\users\\dongh\\anaconda3\\lib\\site-packages (from soynlp) (5.7.2)\n",
      "Requirement already satisfied: scipy>=1.1.0 in c:\\users\\dongh\\anaconda3\\lib\\site-packages (from soynlp) (1.5.2)\n",
      "Requirement already satisfied: numpy>=1.12.1 in c:\\users\\dongh\\anaconda3\\lib\\site-packages (from soynlp) (1.19.2)\n",
      "Requirement already satisfied: joblib>=0.11 in c:\\users\\dongh\\anaconda3\\lib\\site-packages (from scikit-learn>=0.20.0->soynlp) (0.17.0)\n",
      "Requirement already satisfied: threadpoolctl>=2.0.0 in c:\\users\\dongh\\anaconda3\\lib\\site-packages (from scikit-learn>=0.20.0->soynlp) (2.1.0)\n",
      "Requirement already satisfied: tqdm in c:\\users\\dongh\\anaconda3\\lib\\site-packages (4.50.2)\n"
     ]
    },
    {
     "data": {
      "application/vnd.jupyter.widget-view+json": {
       "model_id": "49502045794949bcb1ed2fbf510f6623",
       "version_major": 2,
       "version_minor": 0
      },
      "text/plain": [
       "HBox(children=(HTML(value=''), FloatProgress(value=0.0, max=66310.0), HTML(value='')))"
      ]
     },
     "metadata": {},
     "output_type": "display_data"
    },
    {
     "name": "stderr",
     "output_type": "stream",
     "text": [
      "<ipython-input-36-11d5dce1a42a>:12: SettingWithCopyWarning: \n",
      "A value is trying to be set on a copy of a slice from a DataFrame\n",
      "\n",
      "See the caveats in the documentation: https://pandas.pydata.org/pandas-docs/stable/user_guide/indexing.html#returning-a-view-versus-a-copy\n",
      "  review_df[\"Text\"][idx] = repeat_normalize(review_df[\"Text\"][idx], num_repeats=2)\n"
     ]
    },
    {
     "name": "stdout",
     "output_type": "stream",
     "text": [
      "\n"
     ]
    },
    {
     "data": {
      "text/html": [
       "<div>\n",
       "<style scoped>\n",
       "    .dataframe tbody tr th:only-of-type {\n",
       "        vertical-align: middle;\n",
       "    }\n",
       "\n",
       "    .dataframe tbody tr th {\n",
       "        vertical-align: top;\n",
       "    }\n",
       "\n",
       "    .dataframe thead th {\n",
       "        text-align: right;\n",
       "    }\n",
       "</style>\n",
       "<table border=\"1\" class=\"dataframe\">\n",
       "  <thead>\n",
       "    <tr style=\"text-align: right;\">\n",
       "      <th></th>\n",
       "      <th>Text</th>\n",
       "      <th>Label</th>\n",
       "    </tr>\n",
       "  </thead>\n",
       "  <tbody>\n",
       "    <tr>\n",
       "      <th>0</th>\n",
       "      <td>직원 분들이 정말로 친절하십니다. 외국인 친구를 데리고 갔는데 특히 아침 조식 때 ...</td>\n",
       "      <td>1</td>\n",
       "    </tr>\n",
       "    <tr>\n",
       "      <th>1</th>\n",
       "      <td>침대 매트리스는 좋았어요 아침식사도 좋구요</td>\n",
       "      <td>1</td>\n",
       "    </tr>\n",
       "    <tr>\n",
       "      <th>2</th>\n",
       "      <td>편의시설 가까움</td>\n",
       "      <td>1</td>\n",
       "    </tr>\n",
       "    <tr>\n",
       "      <th>3</th>\n",
       "      <td>위치가 좋다</td>\n",
       "      <td>1</td>\n",
       "    </tr>\n",
       "    <tr>\n",
       "      <th>4</th>\n",
       "      <td>화장실이 넓고 위치가 좋아요</td>\n",
       "      <td>1</td>\n",
       "    </tr>\n",
       "    <tr>\n",
       "      <th>...</th>\n",
       "      <td>...</td>\n",
       "      <td>...</td>\n",
       "    </tr>\n",
       "    <tr>\n",
       "      <th>66305</th>\n",
       "      <td>도심과는 조금 멉니다</td>\n",
       "      <td>0</td>\n",
       "    </tr>\n",
       "    <tr>\n",
       "      <th>66306</th>\n",
       "      <td>약간 외곽에 있었고 가까이에 식당을 찾기가 어려웠어요</td>\n",
       "      <td>0</td>\n",
       "    </tr>\n",
       "    <tr>\n",
       "      <th>66307</th>\n",
       "      <td>방이 20m2이라고 했는데 실제론 절반크기(?) 정도로 많이 작았음...</td>\n",
       "      <td>0</td>\n",
       "    </tr>\n",
       "    <tr>\n",
       "      <th>66308</th>\n",
       "      <td>없음</td>\n",
       "      <td>0</td>\n",
       "    </tr>\n",
       "    <tr>\n",
       "      <th>66309</th>\n",
       "      <td>없습니다.</td>\n",
       "      <td>0</td>\n",
       "    </tr>\n",
       "  </tbody>\n",
       "</table>\n",
       "<p>66310 rows × 2 columns</p>\n",
       "</div>"
      ],
      "text/plain": [
       "                                                    Text  Label\n",
       "0      직원 분들이 정말로 친절하십니다. 외국인 친구를 데리고 갔는데 특히 아침 조식 때 ...      1\n",
       "1                                침대 매트리스는 좋았어요 아침식사도 좋구요      1\n",
       "2                                               편의시설 가까움      1\n",
       "3                                                 위치가 좋다      1\n",
       "4                                        화장실이 넓고 위치가 좋아요      1\n",
       "...                                                  ...    ...\n",
       "66305                                        도심과는 조금 멉니다      0\n",
       "66306                      약간 외곽에 있었고 가까이에 식당을 찾기가 어려웠어요      0\n",
       "66307           방이 20m2이라고 했는데 실제론 절반크기(?) 정도로 많이 작았음...      0\n",
       "66308                                                 없음      0\n",
       "66309                                              없습니다.      0\n",
       "\n",
       "[66310 rows x 2 columns]"
      ]
     },
     "execution_count": 36,
     "metadata": {},
     "output_type": "execute_result"
    }
   ],
   "source": [
    "!pip install soynlp\n",
    "!pip install tqdm\n",
    "\n",
    "from tqdm.notebook import tqdm\n",
    "from soynlp.normalizer import repeat_normalize\n",
    "\n",
    "# 중복되는 글자 제거\n",
    "\n",
    "review_df.index = [i for i in range(review_df[\"Text\"].size)]\n",
    "\n",
    "for idx in tqdm(review_df.index):\n",
    "    review_df[\"Text\"][idx] = repeat_normalize(review_df[\"Text\"][idx], num_repeats=2)\n",
    "\n",
    "review_df"
   ]
  },
  {
   "cell_type": "code",
   "execution_count": 37,
   "metadata": {
    "ExecuteTime": {
     "end_time": "2021-02-24T17:55:00.055726Z",
     "start_time": "2021-02-24T17:55:00.026727Z"
    }
   },
   "outputs": [],
   "source": [
    "# neg, pos division\n",
    "neg = review_df[review_df[\"Label\"] == 0][\"Text\"]\n",
    "pos = review_df[review_df[\"Label\"] == 1][\"Text\"]"
   ]
  },
  {
   "cell_type": "code",
   "execution_count": 38,
   "metadata": {
    "ExecuteTime": {
     "end_time": "2021-02-24T17:59:28.903226Z",
     "start_time": "2021-02-24T17:55:00.057729Z"
    }
   },
   "outputs": [
    {
     "data": {
      "application/vnd.jupyter.widget-view+json": {
       "model_id": "0d9d02fb6603499f9a00c5e210f36ed6",
       "version_major": 2,
       "version_minor": 0
      },
      "text/plain": [
       "HBox(children=(HTML(value=''), FloatProgress(value=0.0, max=33154.0), HTML(value='')))"
      ]
     },
     "metadata": {},
     "output_type": "display_data"
    },
    {
     "name": "stdout",
     "output_type": "stream",
     "text": [
      "\n"
     ]
    },
    {
     "data": {
      "application/vnd.jupyter.widget-view+json": {
       "model_id": "814aaf74296c42c8ae736d16992f40c9",
       "version_major": 2,
       "version_minor": 0
      },
      "text/plain": [
       "HBox(children=(HTML(value=''), FloatProgress(value=0.0, max=33156.0), HTML(value='')))"
      ]
     },
     "metadata": {},
     "output_type": "display_data"
    },
    {
     "name": "stdout",
     "output_type": "stream",
     "text": [
      "\n"
     ]
    }
   ],
   "source": [
    "# kss divide with sentences\n",
    "import kss\n",
    "\n",
    "def split_sentence(texts_df):\n",
    "    arr = []\n",
    "    for sentence in tqdm(texts_df):\n",
    "        for s in kss.split_sentences(sentence):\n",
    "            arr.append(s)\n",
    "    return arr\n",
    "\n",
    "\n",
    "neg = pd.DataFrame({\"Text\": split_sentence(neg)})\n",
    "pos = pd.DataFrame({\"Text\": split_sentence(pos)})\n",
    "\n",
    "neg[\"Label\"] = 0\n",
    "pos[\"Label\"] = 1\n",
    "\n",
    "# del record that have only 1 word\n",
    "\n",
    "review_splited = pd.concat([pos, neg])\n",
    "review_splited[\"len_text\"] = [len(t.split()) for t in review_splited[\"Text\"]]\n",
    "review_splited_del_meaningless = review_splited[review_splited[\"len_text\"] > 1]\n",
    "\n",
    "# flushing idx\n",
    "\n",
    "review_splited_del_meaningless.index = [i for i in range(review_splited_del_meaningless[\"Text\"].size)]"
   ]
  },
  {
   "cell_type": "code",
   "execution_count": 39,
   "metadata": {
    "ExecuteTime": {
     "end_time": "2021-02-24T17:59:28.934230Z",
     "start_time": "2021-02-24T17:59:28.907228Z"
    }
   },
   "outputs": [
    {
     "data": {
      "text/html": [
       "<div>\n",
       "<style scoped>\n",
       "    .dataframe tbody tr th:only-of-type {\n",
       "        vertical-align: middle;\n",
       "    }\n",
       "\n",
       "    .dataframe tbody tr th {\n",
       "        vertical-align: top;\n",
       "    }\n",
       "\n",
       "    .dataframe thead th {\n",
       "        text-align: right;\n",
       "    }\n",
       "</style>\n",
       "<table border=\"1\" class=\"dataframe\">\n",
       "  <thead>\n",
       "    <tr style=\"text-align: right;\">\n",
       "      <th></th>\n",
       "      <th>Text</th>\n",
       "      <th>Label</th>\n",
       "      <th>len_text</th>\n",
       "    </tr>\n",
       "  </thead>\n",
       "  <tbody>\n",
       "    <tr>\n",
       "      <th>0</th>\n",
       "      <td>직원 분들이 정말로 친절하십니다.</td>\n",
       "      <td>1</td>\n",
       "      <td>4</td>\n",
       "    </tr>\n",
       "    <tr>\n",
       "      <th>1</th>\n",
       "      <td>외국인 친구를 데리고 갔는데 특히 아침 조식 때 직원분이 많이 도와주셔서 정말로 간...</td>\n",
       "      <td>1</td>\n",
       "      <td>13</td>\n",
       "    </tr>\n",
       "    <tr>\n",
       "      <th>2</th>\n",
       "      <td>그리고 데스크에 계신 직원분들도 체크 아웃하고 짐도 맡겨주시고 정말로 친절하셨습니다.</td>\n",
       "      <td>1</td>\n",
       "      <td>10</td>\n",
       "    </tr>\n",
       "    <tr>\n",
       "      <th>3</th>\n",
       "      <td>방은 깨끗하고 특히 화장실이 청결했어요.</td>\n",
       "      <td>1</td>\n",
       "      <td>5</td>\n",
       "    </tr>\n",
       "    <tr>\n",
       "      <th>4</th>\n",
       "      <td>약간 작은 방이긴 하지만 위치도 명동역에서 2분 거리라 좋았습니다.</td>\n",
       "      <td>1</td>\n",
       "      <td>9</td>\n",
       "    </tr>\n",
       "    <tr>\n",
       "      <th>...</th>\n",
       "      <td>...</td>\n",
       "      <td>...</td>\n",
       "      <td>...</td>\n",
       "    </tr>\n",
       "    <tr>\n",
       "      <th>105014</th>\n",
       "      <td>호텔에 대해선 아무 불만도 없습니다.</td>\n",
       "      <td>0</td>\n",
       "      <td>5</td>\n",
       "    </tr>\n",
       "    <tr>\n",
       "      <th>105015</th>\n",
       "      <td>다만 숙소 근처에 맛집이 없었던게 아쉬웠습니다. 가장 가까운 지하철역까지도 약간 거...</td>\n",
       "      <td>0</td>\n",
       "      <td>17</td>\n",
       "    </tr>\n",
       "    <tr>\n",
       "      <th>105016</th>\n",
       "      <td>도심과는 조금 멉니다</td>\n",
       "      <td>0</td>\n",
       "      <td>3</td>\n",
       "    </tr>\n",
       "    <tr>\n",
       "      <th>105017</th>\n",
       "      <td>약간 외곽에 있었고 가까이에 식당을 찾기가 어려웠어요</td>\n",
       "      <td>0</td>\n",
       "      <td>7</td>\n",
       "    </tr>\n",
       "    <tr>\n",
       "      <th>105018</th>\n",
       "      <td>방이 20m2이라고 했는데 실제론 절반크기(?) 정도로 많이 작았음...</td>\n",
       "      <td>0</td>\n",
       "      <td>8</td>\n",
       "    </tr>\n",
       "  </tbody>\n",
       "</table>\n",
       "<p>105019 rows × 3 columns</p>\n",
       "</div>"
      ],
      "text/plain": [
       "                                                     Text  Label  len_text\n",
       "0                                      직원 분들이 정말로 친절하십니다.      1         4\n",
       "1       외국인 친구를 데리고 갔는데 특히 아침 조식 때 직원분이 많이 도와주셔서 정말로 간...      1        13\n",
       "2         그리고 데스크에 계신 직원분들도 체크 아웃하고 짐도 맡겨주시고 정말로 친절하셨습니다.      1        10\n",
       "3                                  방은 깨끗하고 특히 화장실이 청결했어요.      1         5\n",
       "4                   약간 작은 방이긴 하지만 위치도 명동역에서 2분 거리라 좋았습니다.      1         9\n",
       "...                                                   ...    ...       ...\n",
       "105014                               호텔에 대해선 아무 불만도 없습니다.      0         5\n",
       "105015  다만 숙소 근처에 맛집이 없었던게 아쉬웠습니다. 가장 가까운 지하철역까지도 약간 거...      0        17\n",
       "105016                                        도심과는 조금 멉니다      0         3\n",
       "105017                      약간 외곽에 있었고 가까이에 식당을 찾기가 어려웠어요      0         7\n",
       "105018           방이 20m2이라고 했는데 실제론 절반크기(?) 정도로 많이 작았음...      0         8\n",
       "\n",
       "[105019 rows x 3 columns]"
      ]
     },
     "execution_count": 39,
     "metadata": {},
     "output_type": "execute_result"
    }
   ],
   "source": [
    "review_splited_del_meaningless"
   ]
  },
  {
   "cell_type": "code",
   "execution_count": 42,
   "metadata": {
    "ExecuteTime": {
     "end_time": "2021-02-24T17:59:50.598274Z",
     "start_time": "2021-02-24T17:59:50.344274Z"
    }
   },
   "outputs": [],
   "source": [
    "review_splited_del_meaningless.to_csv(\"Preprocessing_review_pos_neg.csv\",\n",
    "                                     index = False)"
   ]
  },
  {
   "cell_type": "code",
   "execution_count": 43,
   "metadata": {
    "ExecuteTime": {
     "end_time": "2021-02-24T17:59:51.466276Z",
     "start_time": "2021-02-24T17:59:51.294273Z"
    }
   },
   "outputs": [
    {
     "data": {
      "text/html": [
       "<div>\n",
       "<style scoped>\n",
       "    .dataframe tbody tr th:only-of-type {\n",
       "        vertical-align: middle;\n",
       "    }\n",
       "\n",
       "    .dataframe tbody tr th {\n",
       "        vertical-align: top;\n",
       "    }\n",
       "\n",
       "    .dataframe thead th {\n",
       "        text-align: right;\n",
       "    }\n",
       "</style>\n",
       "<table border=\"1\" class=\"dataframe\">\n",
       "  <thead>\n",
       "    <tr style=\"text-align: right;\">\n",
       "      <th></th>\n",
       "      <th>Text</th>\n",
       "      <th>Label</th>\n",
       "      <th>len_text</th>\n",
       "    </tr>\n",
       "  </thead>\n",
       "  <tbody>\n",
       "    <tr>\n",
       "      <th>0</th>\n",
       "      <td>직원 분들이 정말로 친절하십니다.</td>\n",
       "      <td>1</td>\n",
       "      <td>4</td>\n",
       "    </tr>\n",
       "    <tr>\n",
       "      <th>1</th>\n",
       "      <td>외국인 친구를 데리고 갔는데 특히 아침 조식 때 직원분이 많이 도와주셔서 정말로 간...</td>\n",
       "      <td>1</td>\n",
       "      <td>13</td>\n",
       "    </tr>\n",
       "    <tr>\n",
       "      <th>2</th>\n",
       "      <td>그리고 데스크에 계신 직원분들도 체크 아웃하고 짐도 맡겨주시고 정말로 친절하셨습니다.</td>\n",
       "      <td>1</td>\n",
       "      <td>10</td>\n",
       "    </tr>\n",
       "    <tr>\n",
       "      <th>3</th>\n",
       "      <td>방은 깨끗하고 특히 화장실이 청결했어요.</td>\n",
       "      <td>1</td>\n",
       "      <td>5</td>\n",
       "    </tr>\n",
       "    <tr>\n",
       "      <th>4</th>\n",
       "      <td>약간 작은 방이긴 하지만 위치도 명동역에서 2분 거리라 좋았습니다.</td>\n",
       "      <td>1</td>\n",
       "      <td>9</td>\n",
       "    </tr>\n",
       "    <tr>\n",
       "      <th>...</th>\n",
       "      <td>...</td>\n",
       "      <td>...</td>\n",
       "      <td>...</td>\n",
       "    </tr>\n",
       "    <tr>\n",
       "      <th>105014</th>\n",
       "      <td>호텔에 대해선 아무 불만도 없습니다.</td>\n",
       "      <td>0</td>\n",
       "      <td>5</td>\n",
       "    </tr>\n",
       "    <tr>\n",
       "      <th>105015</th>\n",
       "      <td>다만 숙소 근처에 맛집이 없었던게 아쉬웠습니다. 가장 가까운 지하철역까지도 약간 거...</td>\n",
       "      <td>0</td>\n",
       "      <td>17</td>\n",
       "    </tr>\n",
       "    <tr>\n",
       "      <th>105016</th>\n",
       "      <td>도심과는 조금 멉니다</td>\n",
       "      <td>0</td>\n",
       "      <td>3</td>\n",
       "    </tr>\n",
       "    <tr>\n",
       "      <th>105017</th>\n",
       "      <td>약간 외곽에 있었고 가까이에 식당을 찾기가 어려웠어요</td>\n",
       "      <td>0</td>\n",
       "      <td>7</td>\n",
       "    </tr>\n",
       "    <tr>\n",
       "      <th>105018</th>\n",
       "      <td>방이 20m2이라고 했는데 실제론 절반크기(?) 정도로 많이 작았음...</td>\n",
       "      <td>0</td>\n",
       "      <td>8</td>\n",
       "    </tr>\n",
       "  </tbody>\n",
       "</table>\n",
       "<p>105019 rows × 3 columns</p>\n",
       "</div>"
      ],
      "text/plain": [
       "                                                     Text  Label  len_text\n",
       "0                                      직원 분들이 정말로 친절하십니다.      1         4\n",
       "1       외국인 친구를 데리고 갔는데 특히 아침 조식 때 직원분이 많이 도와주셔서 정말로 간...      1        13\n",
       "2         그리고 데스크에 계신 직원분들도 체크 아웃하고 짐도 맡겨주시고 정말로 친절하셨습니다.      1        10\n",
       "3                                  방은 깨끗하고 특히 화장실이 청결했어요.      1         5\n",
       "4                   약간 작은 방이긴 하지만 위치도 명동역에서 2분 거리라 좋았습니다.      1         9\n",
       "...                                                   ...    ...       ...\n",
       "105014                               호텔에 대해선 아무 불만도 없습니다.      0         5\n",
       "105015  다만 숙소 근처에 맛집이 없었던게 아쉬웠습니다. 가장 가까운 지하철역까지도 약간 거...      0        17\n",
       "105016                                        도심과는 조금 멉니다      0         3\n",
       "105017                      약간 외곽에 있었고 가까이에 식당을 찾기가 어려웠어요      0         7\n",
       "105018           방이 20m2이라고 했는데 실제론 절반크기(?) 정도로 많이 작았음...      0         8\n",
       "\n",
       "[105019 rows x 3 columns]"
      ]
     },
     "execution_count": 43,
     "metadata": {},
     "output_type": "execute_result"
    }
   ],
   "source": [
    "pd.read_csv(\"Preprocessing_review_pos_neg.csv\")"
   ]
  }
 ],
 "metadata": {
  "kernelspec": {
   "display_name": "Python 3",
   "language": "python",
   "name": "python3"
  },
  "language_info": {
   "codemirror_mode": {
    "name": "ipython",
    "version": 3
   },
   "file_extension": ".py",
   "mimetype": "text/x-python",
   "name": "python",
   "nbconvert_exporter": "python",
   "pygments_lexer": "ipython3",
   "version": "3.8.5"
  }
 },
 "nbformat": 4,
 "nbformat_minor": 4
}
