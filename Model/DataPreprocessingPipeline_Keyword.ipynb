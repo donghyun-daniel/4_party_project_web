{
 "cells": [
  {
   "cell_type": "code",
   "execution_count": 41,
   "id": "unauthorized-settle",
   "metadata": {},
   "outputs": [],
   "source": [
    "import re\n",
    "from pykospacing import spacing\n",
    "from soynlp.normalizer import repeat_normalize\n",
    "from kss import kss\n",
    "import pandas as pd\n",
    "from tqdm.notebook import tqdm\n",
    "import numpy as np\n",
    "\n",
    "######### 임시 #########\n",
    "# init 함수 호출을 통해 사용 #\n",
    "# init 인자 \n",
    "# 1. fileName: 원본 raw data 파일 위치+이름\n",
    "# 2. saveName : 전처리 작업을 진행 후의 파일 위치 + 이름\n",
    "# 3. labelList : 원본 raw data 파일의 columns 이름들 list, \n",
    "#                인자 없을 시 BASE_LABEL_LIST 대로 감\n",
    "# 4. nes_labeList : 작업 결과로 받고자 하는 columns의 원본 이름\n",
    "#                    인자 없을 시 NECESSARY_LABEL_LIST 대로 감\n",
    "\n",
    "# 데이터 포멧 통일 작업 #\n",
    "# 추후 전처리 프로세스 통일을 위해 #\n",
    "# 컬럼 1개(text) #\n",
    "\n",
    "BASE_LABEL_LIST = ['HotelName','HotelAddress','HotelRating','Date','ReviewRating','ReviewTitle','ReviewText']\n",
    "NECESSARY_LABEL_LIST = ['ReviewText']\n",
    "TEXT_REVIEW_COLUMN_NAME = 'text'\n",
    "SENTENCE_IDX_COLUME_NAME = 'rawSentenceIdx'\n",
    "\n",
    "def init(fileName, saveName = 'hotel.txt', labelList = None, nes_labelList = None):\n",
    "    global BASE_LABEL_LIST\n",
    "    global NECESSARY_LABEL_LIST\n",
    "    \n",
    "    if labelList:\n",
    "        BASE_LABEL_LIST = labelList\n",
    "    if nes_labelList:\n",
    "        NECESSARY_LABEL_LIST = nes_labelList\n",
    "    data = data_format_setting(fileName)\n",
    "    data = preprocessingPipeLine(data)\n",
    "    data.to_csv(saveName, sep = '\\t', index = False)\n",
    "\n",
    "def data_format_setting(fileName):\n",
    "    data = data_format_setting_hotel(fileName)\n",
    "    return data\n",
    "    \n",
    "def remove_columns(data):\n",
    "    remove_columns_list = list(set(BASE_LABEL_LIST) -  set(NECESSARY_LABEL_LIST))\n",
    "    data.drop(columns = remove_columns_list, inplace=True)\n",
    "    return data\n",
    "\n",
    "def data_format_setting_hotel(dataFileName):\n",
    "    data = pd.read_csv(dataFileName)\n",
    "    data = remove_columns(data)\n",
    "    data.columns = [TEXT_REVIEW_COLUMN_NAME]\n",
    "    return data\n",
    "\n",
    "def regex_spacing_normalization(data):\n",
    "    del_filter1 = re.compile(r'[!?,.ㅋㅎㅜㅠ가-힣0-9]+')\n",
    "    data[SENTENCE_IDX_COLUME_NAME] = 0\n",
    "    df = pd.DataFrame(columns = [TEXT_REVIEW_COLUMN_NAME, SENTENCE_IDX_COLUME_NAME])\n",
    "    for idx, item in tqdm(enumerate(data[TEXT_REVIEW_COLUMN_NAME])):\n",
    "        tmp = str(item)\n",
    "        if tmp == 'nan':\n",
    "            continue\n",
    "        tmp = ' '.join(del_filter1.findall(item))\n",
    "        tmp = spacing(tmp)\n",
    "        tmp = repeat_normalize(tmp, num_repeats=2)\n",
    "\n",
    "        df = df.append({TEXT_REVIEW_COLUMN_NAME:tmp, SENTENCE_IDX_COLUME_NAME:idx}, ignore_index=True)\n",
    "    return df\n",
    "\n",
    "def regex_specialChar(data):\n",
    "    del_filter2 = re.compile(r'[ㅋㅎㅜㅠ가-힣0-9]+')\n",
    "    for idx, item in enumerate(data[TEXT_REVIEW_COLUMN_NAME]):\n",
    "        tmp = ' '.join(del_filter2.findall(item))\n",
    "        data.at[idx, TEXT_REVIEW_COLUMN_NAME] = tmp\n",
    "    return data\n",
    "        \n",
    "def split_sentence(data):\n",
    "    sentenceData = []\n",
    "    sentenceIdx = []\n",
    "    for sentence, idx in zip(data[TEXT_REVIEW_COLUMN_NAME], data[SENTENCE_IDX_COLUME_NAME]):\n",
    "        for s in kss.split_sentences(sentence):\n",
    "            sentenceData.append(s)\n",
    "            sentenceIdx.append(idx)\n",
    "    return sentenceData, sentenceIdx\n",
    "\n",
    "def preprocessingPipeLine(data):\n",
    "    data = regex_spacing_normalization(data)\n",
    "    data = data.dropna(axis=0)\n",
    "    \n",
    "    split_text, split_idx = split_sentence(data)\n",
    "    data = pd.DataFrame({TEXT_REVIEW_COLUMN_NAME: split_text, SENTENCE_IDX_COLUME_NAME: split_idx})\n",
    "    \n",
    "    data = regex_specialChar(data)\n",
    "    \n",
    "    data = data.dropna(axis=0)\n",
    "    data.drop_duplicates(subset=[TEXT_REVIEW_COLUMN_NAME], inplace=True)\n",
    "    \n",
    "    \n",
    "    data[\"len_text\"] = [len(t.split()) for t in data[TEXT_REVIEW_COLUMN_NAME]]\n",
    "    data = data[data[\"len_text\"] > 1]\n",
    "    data.drop(columns = [\"len_text\"], inplace=True)\n",
    "    data = data.astype({SENTENCE_IDX_COLUME_NAME:'int'})\n",
    "    return data"
   ]
  },
  {
   "cell_type": "code",
   "execution_count": 42,
   "id": "great-beatles",
   "metadata": {},
   "outputs": [
    {
     "data": {
      "application/vnd.jupyter.widget-view+json": {
       "model_id": "8c9c4ab2ec2c4d1daa4d6eff25affba4",
       "version_major": 2,
       "version_minor": 0
      },
      "text/plain": [
       "0it [00:00, ?it/s]"
      ]
     },
     "metadata": {},
     "output_type": "display_data"
    },
    {
     "data": {
      "application/vnd.jupyter.widget-view+json": {
       "model_id": "dc0a5f5b1d5a4e02a2b9f5131a3ccfac",
       "version_major": 2,
       "version_minor": 0
      },
      "text/plain": [
       "0it [00:00, ?it/s]"
      ]
     },
     "metadata": {},
     "output_type": "display_data"
    },
    {
     "data": {
      "application/vnd.jupyter.widget-view+json": {
       "model_id": "f14d725f6d57473ba3035e6199e08ce4",
       "version_major": 2,
       "version_minor": 0
      },
      "text/plain": [
       "0it [00:00, ?it/s]"
      ]
     },
     "metadata": {},
     "output_type": "display_data"
    }
   ],
   "source": [
    "init('data/key_raw/small_test.csv','data/key_pre/small_test.txt')\n",
    "init('data/key_raw/big_test.csv','data/key_pre/big_test.txt')\n",
    "init('data/key_raw/train.csv','data/key_pre/train.txt')"
   ]
  }
 ],
 "metadata": {
  "kernelspec": {
   "display_name": "4_party_project",
   "language": "python",
   "name": "env"
  },
  "language_info": {
   "codemirror_mode": {
    "name": "ipython",
    "version": 3
   },
   "file_extension": ".py",
   "mimetype": "text/x-python",
   "name": "python",
   "nbconvert_exporter": "python",
   "pygments_lexer": "ipython3",
   "version": "3.8.0"
  }
 },
 "nbformat": 4,
 "nbformat_minor": 5
}
